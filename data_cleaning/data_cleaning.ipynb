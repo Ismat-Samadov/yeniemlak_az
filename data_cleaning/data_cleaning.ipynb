{
 "cells": [
  {
   "cell_type": "code",
   "execution_count": 49,
   "id": "11d21801",
   "metadata": {},
   "outputs": [],
   "source": [
    "import pandas as pd"
   ]
  },
  {
   "cell_type": "code",
   "execution_count": 65,
   "id": "9e3586d8",
   "metadata": {},
   "outputs": [],
   "source": [
    "df=pd.read_json(r'data.json')"
   ]
  },
  {
   "cell_type": "code",
   "execution_count": 66,
   "id": "696f221e",
   "metadata": {},
   "outputs": [
    {
     "data": {
      "text/html": [
       "<div>\n",
       "<style scoped>\n",
       "    .dataframe tbody tr th:only-of-type {\n",
       "        vertical-align: middle;\n",
       "    }\n",
       "\n",
       "    .dataframe tbody tr th {\n",
       "        vertical-align: top;\n",
       "    }\n",
       "\n",
       "    .dataframe thead th {\n",
       "        text-align: right;\n",
       "    }\n",
       "</style>\n",
       "<table border=\"1\" class=\"dataframe\">\n",
       "  <thead>\n",
       "    <tr style=\"text-align: right;\">\n",
       "      <th></th>\n",
       "      <th>href</th>\n",
       "      <th>phone_number</th>\n",
       "    </tr>\n",
       "  </thead>\n",
       "  <tbody>\n",
       "    <tr>\n",
       "      <th>0</th>\n",
       "      <td>[/elan/satilir-2-otaqli-bina-evi-menzil-xirdal...</td>\n",
       "      <td>/tel-show/0553007525</td>\n",
       "    </tr>\n",
       "    <tr>\n",
       "      <th>1</th>\n",
       "      <td>[/elan/satilir-2-otaqli-bina-evi-menzil-xirdal...</td>\n",
       "      <td>/tel-show/0703007525</td>\n",
       "    </tr>\n",
       "    <tr>\n",
       "      <th>2</th>\n",
       "      <td>[/elan/satilir-2-otaqli-bina-evi-menzil-bineqe...</td>\n",
       "      <td>/tel-show/0702180020</td>\n",
       "    </tr>\n",
       "    <tr>\n",
       "      <th>3</th>\n",
       "      <td>[/elan/satilir-3-otaqli-bina-evi-menzil-nizami...</td>\n",
       "      <td>/tel-show/0558191841</td>\n",
       "    </tr>\n",
       "    <tr>\n",
       "      <th>4</th>\n",
       "      <td>[/elan/satilir-2-otaqli-bina-evi-menzil-yasama...</td>\n",
       "      <td>/tel-show/0703491707</td>\n",
       "    </tr>\n",
       "    <tr>\n",
       "      <th>...</th>\n",
       "      <td>...</td>\n",
       "      <td>...</td>\n",
       "    </tr>\n",
       "    <tr>\n",
       "      <th>21352</th>\n",
       "      <td>[/elan/satilir-2-otaqli-bina-evi-menzil-4-cu-m...</td>\n",
       "      <td>/tel-show/0503276021</td>\n",
       "    </tr>\n",
       "    <tr>\n",
       "      <th>21353</th>\n",
       "      <td>[/elan/satilir-2-otaqli-bina-evi-menzil-4-cu-m...</td>\n",
       "      <td>/tel-show/0552276021</td>\n",
       "    </tr>\n",
       "    <tr>\n",
       "      <th>21354</th>\n",
       "      <td>[/elan/satilir-3-otaqli-bina-evi-menzil-nerima...</td>\n",
       "      <td>/tel-show/0502093670</td>\n",
       "    </tr>\n",
       "    <tr>\n",
       "      <th>21355</th>\n",
       "      <td>[/elan/satilir-3-otaqli-bina-evi-menzil-nesimi...</td>\n",
       "      <td>/tel-show/0502093743</td>\n",
       "    </tr>\n",
       "    <tr>\n",
       "      <th>21356</th>\n",
       "      <td>[/elan/satilir-3-otaqli-bina-evi-menzil-xetai-...</td>\n",
       "      <td>/tel-show/0704476999</td>\n",
       "    </tr>\n",
       "  </tbody>\n",
       "</table>\n",
       "<p>21357 rows × 2 columns</p>\n",
       "</div>"
      ],
      "text/plain": [
       "                                                    href          phone_number\n",
       "0      [/elan/satilir-2-otaqli-bina-evi-menzil-xirdal...  /tel-show/0553007525\n",
       "1      [/elan/satilir-2-otaqli-bina-evi-menzil-xirdal...  /tel-show/0703007525\n",
       "2      [/elan/satilir-2-otaqli-bina-evi-menzil-bineqe...  /tel-show/0702180020\n",
       "3      [/elan/satilir-3-otaqli-bina-evi-menzil-nizami...  /tel-show/0558191841\n",
       "4      [/elan/satilir-2-otaqli-bina-evi-menzil-yasama...  /tel-show/0703491707\n",
       "...                                                  ...                   ...\n",
       "21352  [/elan/satilir-2-otaqli-bina-evi-menzil-4-cu-m...  /tel-show/0503276021\n",
       "21353  [/elan/satilir-2-otaqli-bina-evi-menzil-4-cu-m...  /tel-show/0552276021\n",
       "21354  [/elan/satilir-3-otaqli-bina-evi-menzil-nerima...  /tel-show/0502093670\n",
       "21355  [/elan/satilir-3-otaqli-bina-evi-menzil-nesimi...  /tel-show/0502093743\n",
       "21356  [/elan/satilir-3-otaqli-bina-evi-menzil-xetai-...  /tel-show/0704476999\n",
       "\n",
       "[21357 rows x 2 columns]"
      ]
     },
     "execution_count": 66,
     "metadata": {},
     "output_type": "execute_result"
    }
   ],
   "source": [
    "df"
   ]
  },
  {
   "cell_type": "code",
   "execution_count": 53,
   "id": "783b5953",
   "metadata": {},
   "outputs": [
    {
     "name": "stdout",
     "output_type": "stream",
     "text": [
      "<class 'pandas.core.frame.DataFrame'>\n",
      "RangeIndex: 21357 entries, 0 to 21356\n",
      "Data columns (total 2 columns):\n",
      " #   Column        Non-Null Count  Dtype \n",
      "---  ------        --------------  ----- \n",
      " 0   href          21357 non-null  object\n",
      " 1   phone_number  21357 non-null  object\n",
      "dtypes: object(2)\n",
      "memory usage: 333.8+ KB\n"
     ]
    }
   ],
   "source": [
    "df.info()"
   ]
  },
  {
   "cell_type": "code",
   "execution_count": 71,
   "id": "fe201e6d",
   "metadata": {},
   "outputs": [],
   "source": [
    "df.to_excel('data.xlsx', index=False)"
   ]
  }
 ],
 "metadata": {
  "kernelspec": {
   "display_name": "Python 3 (ipykernel)",
   "language": "python",
   "name": "python3"
  },
  "language_info": {
   "codemirror_mode": {
    "name": "ipython",
    "version": 3
   },
   "file_extension": ".py",
   "mimetype": "text/x-python",
   "name": "python",
   "nbconvert_exporter": "python",
   "pygments_lexer": "ipython3",
   "version": "3.9.7"
  }
 },
 "nbformat": 4,
 "nbformat_minor": 5
}
